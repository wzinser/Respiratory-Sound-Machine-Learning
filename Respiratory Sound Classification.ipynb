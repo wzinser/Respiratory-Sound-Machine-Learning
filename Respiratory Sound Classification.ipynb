{
 "cells": [
  {
   "cell_type": "markdown",
   "metadata": {},
   "source": [
    "Iterate through each file in the directory to pull out the times and labels of each respiratory cycle. Perform a STFT transform to obtain spectrogram and convert image to data array"
   ]
  },
  {
   "cell_type": "code",
   "execution_count": null,
   "metadata": {},
   "outputs": [],
   "source": [
    "import matplotlib.pyplot as plt\n",
    "from scipy.io import wavfile\n",
    "import numpy as np\n",
    "import wavio\n",
    "import matplotlib.ticker as ticker\n",
    "from PIL import Image\n",
    "import cv2\n",
    "import pandas as pd\n",
    "import os\n",
    "from pydub import AudioSegment\n",
    "from scipy import signal\n",
    "from matplotlib.pyplot import figure\n",
    "\n",
    "\n",
    "directory_in_str = \"/home/billy/Desktop/LittC2SE\"\n",
    "directory = os.fsencode(directory_in_str)\n",
    "\n",
    "#Create empty vectors to hold labels\n",
    "\n",
    "Data = []\n",
    "time_start = []\n",
    "time_end = []\n",
    "Crackle_Label = []\n",
    "Wheeze_Label = []\n",
    "\n",
    "z = 0\n",
    "#Iterate over entire directory in folder\n",
    "for file in sorted(os.listdir(directory)):\n",
    "     filename = os.fsdecode(file)\n",
    "     if filename.endswith(\".txt\"):\n",
    "             fo = open(filename)\n",
    "             lines = [line.split() for line in fo]\n",
    "             time_s =  [word[0] for word in lines]\n",
    "             time_e = [word[1] for word in lines]\n",
    "             crackles = ([word[2] for word in lines])\n",
    "             wheezes = [word[3] for word in lines] \n",
    "            \n",
    "             #Create Labels for crackles/wheezes\n",
    "             for x in crackles: \n",
    "                if (int(x) == 1):\n",
    "                    Crackle_Label.append(1)\n",
    "                elif (int(x) == 0):\n",
    "                    Crackle_Label.append(0)\n",
    "                    \n",
    "             for y in wheezes: \n",
    "                if (int(y) == 1):\n",
    "                    Wheeze_Label.append(1)\n",
    "                elif (int(y) == 0):\n",
    "                    Wheeze_Label.append(0)\n",
    "            \n",
    "             #Each iteration add values to array   \n",
    "             time_start.append(time_s)\n",
    "             time_end.append(time_e)\n",
    "            \n",
    "            \n",
    "     if filename.endswith(\".wav\"):\n",
    "        length = len(time_s)\n",
    "        Wav_File = AudioSegment.from_wav(filename)\n",
    "        for i in range(length):\n",
    "            \n",
    "            #Split .wav file by each time segment\n",
    "            t1 = float(time_s[i]) * 1000\n",
    "            t2 = float(time_e[i]) * 1000\n",
    "            newAudio = Wav_File[t1:t2]\n",
    "            newAudio.export('Audio' + str(i) + '.wav', format=\"wav\")\n",
    "           \n",
    "            #Set size of figure to 1x1 inch (100x100 pixels)\n",
    "            figure(num=None, figsize=(1, 1), dpi=100, facecolor='w', edgecolor='k')\n",
    "\n",
    "            #Read audio file\n",
    "            sample_rate, samples = wavfile.read('Audio' + str(i) + '.wav')\n",
    "            \n",
    "            #Spectrogram of audio file\n",
    "            frequencies, times, spectrogram = signal.spectrogram(samples, sample_rate, nfft=512, noverlap=128)\n",
    "\n",
    "            #Only display frequencies from 0 to 3 kHz\n",
    "            spectrogram = spectrogram[(frequencies >= 0) & (frequencies <= 3000)]\n",
    "            frequencies = frequencies[(frequencies >= 0) & (frequencies <= 3000)]\n",
    "\n",
    "            #Plot spectrogram\n",
    "            plt.pcolormesh(times, frequencies, 10*np.log10(spectrogram))\n",
    "\n",
    "\n",
    "            #Remove all axis/borders\n",
    "            plt.gca().set_axis_off()\n",
    "            plt.subplots_adjust(top = 1, bottom = 0, right = 1, left = 0, hspace = 0, wspace = 0)\n",
    "            plt.margins(0,0)\n",
    "            plt.gca().xaxis.set_major_locator(ticker.NullLocator())\n",
    "            plt.gca().yaxis.set_major_locator(ticker.NullLocator())\n",
    "\n",
    "            #Save Spectrogram image as .png file\n",
    "            plt.savefig('Spectrogram' + str(i) +'.png')\n",
    "        \n",
    "            #Add image data as greyscale into vector\n",
    "            image_data = cv2.imread('Spectrogram' + str(i) +'.png',1)\n",
    "            Data.append(image_data)\n",
    "        \n",
    "            #Remove audio/image files\n",
    "            os.remove('Audio' + str(i) + '.wav')\n",
    "            os.remove('Spectrogram' + str(i) +'.png')\n",
    "        \n",
    "            #Close all plots\n",
    "            plt.close('all')\n",
    "            print('Complete entry: ' + str(z))\n",
    "            z = z + 1\n",
    "    \n"
   ]
  },
  {
   "cell_type": "markdown",
   "metadata": {},
   "source": [
    "Convert the labels and data to numpy arrays"
   ]
  },
  {
   "cell_type": "code",
   "execution_count": null,
   "metadata": {},
   "outputs": [],
   "source": [
    "#Convert Labels/Data to array\n",
    "Data = np.array(Data)\n",
    "Crackle_Label = np.array(Crackle_Label)\n",
    "Wheeze_Label = np.array(Wheeze_Label)\n",
    "\n",
    "#Double check the shape\n",
    "print('The shape of the Data is:', Data.shape)\n",
    "print('The shape of the Crackle Labels is:', Crackle_Label.shape)\n",
    "print('The shape of the Wheeze Labels is:', Wheeze_Label.shape)\n",
    "\n",
    "\n",
    "# Delete variables that are no longer needed\n",
    "del z\n",
    "del x\n",
    "del y\n",
    "del crackles\n",
    "del wheezes\n",
    "del lines\n",
    "del time_s\n",
    "del time_e"
   ]
  },
  {
   "cell_type": "markdown",
   "metadata": {},
   "source": [
    "**Note:** These next two sections are used to save the Data & Labels to files so that you don't need to iterate over the entire file directory each time "
   ]
  },
  {
   "cell_type": "code",
   "execution_count": null,
   "metadata": {},
   "outputs": [],
   "source": [
    "# Save Data (3D array)\n",
    "with open('Data.txt', 'w') as outfile:\n",
    "    outfile.write('# Array shape: {0}\\n'.format(Data.shape))\n",
    "    \n",
    "    for data_slice in Data:\n",
    "        np.savetxt(outfile, data_slice, fmt='%-7.2f')\n",
    "        outfile.write('# New slice\\n')\n",
    "        \n",
    "# Save Labels (1D array)\n",
    "np.savetxt(\"Crackle.txt\", Crackle_Label)\n",
    "np.savetxt(\"Wheeze.txt\", Wheeze_Label)"
   ]
  },
  {
   "cell_type": "code",
   "execution_count": null,
   "metadata": {},
   "outputs": [],
   "source": [
    "# Read the array from disk\n",
    "new_data = np.loadtxt('Data.txt')\n",
    "new_crackle = np.loadtxt('Crackle.txt')\n",
    "new_wheeze = np.loadtxt('Wheeze.txt')\n",
    "\n",
    "\n",
    "new_data = new_data.reshape((588,100,100))\n",
    "\n",
    "\n",
    "# Double check that saved files were saved correctly\n",
    "assert np.all(new_data == Data)\n",
    "assert np.all(new_crackle == Crackle_Label)\n",
    "assert np.all(new_wheeze == Wheeze_Label)"
   ]
  },
  {
   "cell_type": "markdown",
   "metadata": {},
   "source": [
    "Split Data into Test & Training Set \n",
    "\n",
    "(**Note:** Only the crackle classification was tested for classification purposes but the procedures for wheezes are the same)"
   ]
  },
  {
   "cell_type": "code",
   "execution_count": null,
   "metadata": {},
   "outputs": [],
   "source": [
    "from sklearn.model_selection import train_test_split\n",
    "X_train, X_val, Y_train, Y_val = train_test_split(Data, Crackle_Label, test_size=.20, random_state=2)\n",
    "\n",
    "print(\"Shape of training data is: \", X_train.shape)\n",
    "print(\"Shape of validation data is: \", X_val.shape)\n",
    "print(\"Shape of training labels is: \", Y_train.shape)\n",
    "print(\"Shape of validation labels is: \", Y_val.shape)\n",
    "\n",
    "# Delete unused variables\n",
    "del Data\n",
    "del Crackle_Label"
   ]
  },
  {
   "cell_type": "code",
   "execution_count": null,
   "metadata": {},
   "outputs": [],
   "source": [
    "#Length of Training & Validation Data\n",
    "ntrain = len(X_train)\n",
    "nval = len(X_val)\n",
    "\n",
    "batch_size = 64"
   ]
  },
  {
   "cell_type": "markdown",
   "metadata": {},
   "source": [
    "Add layers to Keras Model"
   ]
  },
  {
   "cell_type": "code",
   "execution_count": null,
   "metadata": {},
   "outputs": [],
   "source": [
    "from keras import layers\n",
    "from keras import models\n",
    "from keras import optimizers\n",
    "from keras.preprocessing.image import ImageDataGenerator\n",
    "from keras.preprocessing.image import img_to_array, load_img\n",
    "\n",
    "\n",
    "model = models.Sequential()\n",
    "model.add(layers.Conv2D(32, (3, 3), activation='relu',input_shape=(100, 100, 3)))\n",
    "model.add(layers.MaxPooling2D((2, 2)))\n",
    "model.add(layers.Conv2D(64, (3, 3), activation='relu'))\n",
    "model.add(layers.MaxPooling2D((2, 2)))\n",
    "model.add(layers.Conv2D(128, (3, 3), activation='relu'))\n",
    "model.add(layers.MaxPooling2D((2, 2)))\n",
    "model.add(layers.Conv2D(128, (3, 3), activation='relu'))\n",
    "model.add(layers.MaxPooling2D((2, 2)))\n",
    "model.add(layers.Flatten())\n",
    "model.add(layers.Dropout(0.5))  #Dropout for regularization\n",
    "model.add(layers.Dense(128, activation='relu'))\n",
    "model.add(layers.Dense(1, activation='sigmoid'))  #Sigmoid function at the end because we have just two classes\n"
   ]
  },
  {
   "cell_type": "code",
   "execution_count": null,
   "metadata": {},
   "outputs": [],
   "source": [
    "model.compile(loss='binary_crossentropy', optimizer=optimizers.RMSprop(lr=1e-4), metrics=['acc'])"
   ]
  },
  {
   "cell_type": "markdown",
   "metadata": {},
   "source": [
    "Image pre-processing to help prevent overfitting"
   ]
  },
  {
   "cell_type": "code",
   "execution_count": null,
   "metadata": {
    "scrolled": false
   },
   "outputs": [],
   "source": [
    "train_datagen = ImageDataGenerator(rescale=1./255,   #Scale the image between 0 and 1\n",
    "                                    rotation_range=40,\n",
    "                                    width_shift_range=0.2,\n",
    "                                    height_shift_range=0.2,\n",
    "                                    shear_range=0.2,\n",
    "                                    zoom_range=0.2,\n",
    "                                    horizontal_flip=True,)\n",
    "\n",
    "val_datagen = ImageDataGenerator(rescale=1./255)  #We do not augment validation data. we only perform rescale"
   ]
  },
  {
   "cell_type": "code",
   "execution_count": null,
   "metadata": {},
   "outputs": [],
   "source": [
    "train_generator = train_datagen.flow(X_train, Y_train, batch_size=batch_size)\n",
    "val_generator = val_datagen.flow(X_val, Y_val, batch_size=batch_size)"
   ]
  },
  {
   "cell_type": "code",
   "execution_count": null,
   "metadata": {},
   "outputs": [],
   "source": [
    "history = model.fit_generator(train_generator,\n",
    "                              steps_per_epoch=ntrain // batch_size,\n",
    "                              epochs=64,\n",
    "                              validation_data=val_generator,\n",
    "                              validation_steps=nval // batch_size)"
   ]
  },
  {
   "cell_type": "markdown",
   "metadata": {},
   "source": [
    "Plot the accuracy and loss for the validation and testing set over each epoch"
   ]
  },
  {
   "cell_type": "code",
   "execution_count": null,
   "metadata": {},
   "outputs": [],
   "source": [
    "acc = history.history['acc']\n",
    "val_acc = history.history['val_acc']\n",
    "loss = history.history['loss']\n",
    "val_loss = history.history['val_loss']\n",
    "\n",
    "epochs = range(1, len(acc) + 1)\n",
    "\n",
    "#Train and validation accuracy\n",
    "plt.plot(epochs, acc, 'b', label='Training accurarcy')\n",
    "plt.plot(epochs, val_acc, 'r', label='Validation accurarcy')\n",
    "plt.title('Training and Validation accurarcy')\n",
    "plt.legend()\n",
    "\n",
    "plt.figure()\n",
    "#Train and validation loss\n",
    "plt.plot(epochs, loss, 'b', label='Training loss')\n",
    "plt.plot(epochs, val_loss, 'r', label='Validation loss')\n",
    "plt.title('Training and Validation loss')\n",
    "plt.legend()\n",
    "\n",
    "plt.show()"
   ]
  },
  {
   "cell_type": "code",
   "execution_count": null,
   "metadata": {},
   "outputs": [],
   "source": [
    "predict = model.predict(X_val)\n",
    "results = []\n",
    "for x in predict: \n",
    "    if (x > .5):\n",
    "        results.append(1)\n",
    "    else:\n",
    "        results.append(0)"
   ]
  }
 ],
 "metadata": {
  "kernelspec": {
   "display_name": "Python 3",
   "language": "python",
   "name": "python3"
  },
  "language_info": {
   "codemirror_mode": {
    "name": "ipython",
    "version": 3
   },
   "file_extension": ".py",
   "mimetype": "text/x-python",
   "name": "python",
   "nbconvert_exporter": "python",
   "pygments_lexer": "ipython3",
   "version": "3.7.3"
  }
 },
 "nbformat": 4,
 "nbformat_minor": 2
}
